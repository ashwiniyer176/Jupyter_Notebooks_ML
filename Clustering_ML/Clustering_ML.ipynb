{
 "cells": [
  {
   "cell_type": "markdown",
   "metadata": {},
   "source": [
    "### College Dataset Clustering\n"
   ]
  },
  {
   "cell_type": "code",
   "execution_count": 1,
   "metadata": {},
   "outputs": [],
   "source": [
    "import numpy as np\n",
    "import pandas as pd\n",
    "import matplotlib.pyplot as plt\n",
    "import seaborn as sns\n",
    "\n",
    "%matplotlib inline"
   ]
  },
  {
   "cell_type": "code",
   "execution_count": 2,
   "metadata": {},
   "outputs": [],
   "source": [
    "df=pd.read_csv('College.csv',index_col=0)"
   ]
  },
  {
   "cell_type": "code",
   "execution_count": 3,
   "metadata": {},
   "outputs": [
    {
     "data": {
      "text/html": [
       "<div>\n",
       "<style scoped>\n",
       "    .dataframe tbody tr th:only-of-type {\n",
       "        vertical-align: middle;\n",
       "    }\n",
       "\n",
       "    .dataframe tbody tr th {\n",
       "        vertical-align: top;\n",
       "    }\n",
       "\n",
       "    .dataframe thead th {\n",
       "        text-align: right;\n",
       "    }\n",
       "</style>\n",
       "<table border=\"1\" class=\"dataframe\">\n",
       "  <thead>\n",
       "    <tr style=\"text-align: right;\">\n",
       "      <th></th>\n",
       "      <th>Apps</th>\n",
       "      <th>Accept</th>\n",
       "      <th>Enroll</th>\n",
       "      <th>Top10perc</th>\n",
       "      <th>Top25perc</th>\n",
       "      <th>F.Undergrad</th>\n",
       "      <th>P.Undergrad</th>\n",
       "      <th>Outstate</th>\n",
       "      <th>Room.Board</th>\n",
       "      <th>Books</th>\n",
       "      <th>Personal</th>\n",
       "      <th>PhD</th>\n",
       "      <th>Terminal</th>\n",
       "      <th>S.F.Ratio</th>\n",
       "      <th>perc.alumni</th>\n",
       "      <th>Expend</th>\n",
       "      <th>Grad.Rate</th>\n",
       "    </tr>\n",
       "  </thead>\n",
       "  <tbody>\n",
       "    <tr>\n",
       "      <th>Abilene Christian University</th>\n",
       "      <td>1660</td>\n",
       "      <td>1232</td>\n",
       "      <td>721</td>\n",
       "      <td>23</td>\n",
       "      <td>52</td>\n",
       "      <td>2885</td>\n",
       "      <td>537</td>\n",
       "      <td>7440</td>\n",
       "      <td>3300</td>\n",
       "      <td>450</td>\n",
       "      <td>2200</td>\n",
       "      <td>70</td>\n",
       "      <td>78</td>\n",
       "      <td>18.1</td>\n",
       "      <td>12</td>\n",
       "      <td>7041</td>\n",
       "      <td>60</td>\n",
       "    </tr>\n",
       "    <tr>\n",
       "      <th>Adelphi University</th>\n",
       "      <td>2186</td>\n",
       "      <td>1924</td>\n",
       "      <td>512</td>\n",
       "      <td>16</td>\n",
       "      <td>29</td>\n",
       "      <td>2683</td>\n",
       "      <td>1227</td>\n",
       "      <td>12280</td>\n",
       "      <td>6450</td>\n",
       "      <td>750</td>\n",
       "      <td>1500</td>\n",
       "      <td>29</td>\n",
       "      <td>30</td>\n",
       "      <td>12.2</td>\n",
       "      <td>16</td>\n",
       "      <td>10527</td>\n",
       "      <td>56</td>\n",
       "    </tr>\n",
       "    <tr>\n",
       "      <th>Adrian College</th>\n",
       "      <td>1428</td>\n",
       "      <td>1097</td>\n",
       "      <td>336</td>\n",
       "      <td>22</td>\n",
       "      <td>50</td>\n",
       "      <td>1036</td>\n",
       "      <td>99</td>\n",
       "      <td>11250</td>\n",
       "      <td>3750</td>\n",
       "      <td>400</td>\n",
       "      <td>1165</td>\n",
       "      <td>53</td>\n",
       "      <td>66</td>\n",
       "      <td>12.9</td>\n",
       "      <td>30</td>\n",
       "      <td>8735</td>\n",
       "      <td>54</td>\n",
       "    </tr>\n",
       "    <tr>\n",
       "      <th>Agnes Scott College</th>\n",
       "      <td>417</td>\n",
       "      <td>349</td>\n",
       "      <td>137</td>\n",
       "      <td>60</td>\n",
       "      <td>89</td>\n",
       "      <td>510</td>\n",
       "      <td>63</td>\n",
       "      <td>12960</td>\n",
       "      <td>5450</td>\n",
       "      <td>450</td>\n",
       "      <td>875</td>\n",
       "      <td>92</td>\n",
       "      <td>97</td>\n",
       "      <td>7.7</td>\n",
       "      <td>37</td>\n",
       "      <td>19016</td>\n",
       "      <td>59</td>\n",
       "    </tr>\n",
       "    <tr>\n",
       "      <th>Alaska Pacific University</th>\n",
       "      <td>193</td>\n",
       "      <td>146</td>\n",
       "      <td>55</td>\n",
       "      <td>16</td>\n",
       "      <td>44</td>\n",
       "      <td>249</td>\n",
       "      <td>869</td>\n",
       "      <td>7560</td>\n",
       "      <td>4120</td>\n",
       "      <td>800</td>\n",
       "      <td>1500</td>\n",
       "      <td>76</td>\n",
       "      <td>72</td>\n",
       "      <td>11.9</td>\n",
       "      <td>2</td>\n",
       "      <td>10922</td>\n",
       "      <td>15</td>\n",
       "    </tr>\n",
       "    <tr>\n",
       "      <th>...</th>\n",
       "      <td>...</td>\n",
       "      <td>...</td>\n",
       "      <td>...</td>\n",
       "      <td>...</td>\n",
       "      <td>...</td>\n",
       "      <td>...</td>\n",
       "      <td>...</td>\n",
       "      <td>...</td>\n",
       "      <td>...</td>\n",
       "      <td>...</td>\n",
       "      <td>...</td>\n",
       "      <td>...</td>\n",
       "      <td>...</td>\n",
       "      <td>...</td>\n",
       "      <td>...</td>\n",
       "      <td>...</td>\n",
       "      <td>...</td>\n",
       "    </tr>\n",
       "    <tr>\n",
       "      <th>Worcester State College</th>\n",
       "      <td>2197</td>\n",
       "      <td>1515</td>\n",
       "      <td>543</td>\n",
       "      <td>4</td>\n",
       "      <td>26</td>\n",
       "      <td>3089</td>\n",
       "      <td>2029</td>\n",
       "      <td>6797</td>\n",
       "      <td>3900</td>\n",
       "      <td>500</td>\n",
       "      <td>1200</td>\n",
       "      <td>60</td>\n",
       "      <td>60</td>\n",
       "      <td>21.0</td>\n",
       "      <td>14</td>\n",
       "      <td>4469</td>\n",
       "      <td>40</td>\n",
       "    </tr>\n",
       "    <tr>\n",
       "      <th>Xavier University</th>\n",
       "      <td>1959</td>\n",
       "      <td>1805</td>\n",
       "      <td>695</td>\n",
       "      <td>24</td>\n",
       "      <td>47</td>\n",
       "      <td>2849</td>\n",
       "      <td>1107</td>\n",
       "      <td>11520</td>\n",
       "      <td>4960</td>\n",
       "      <td>600</td>\n",
       "      <td>1250</td>\n",
       "      <td>73</td>\n",
       "      <td>75</td>\n",
       "      <td>13.3</td>\n",
       "      <td>31</td>\n",
       "      <td>9189</td>\n",
       "      <td>83</td>\n",
       "    </tr>\n",
       "    <tr>\n",
       "      <th>Xavier University of Louisiana</th>\n",
       "      <td>2097</td>\n",
       "      <td>1915</td>\n",
       "      <td>695</td>\n",
       "      <td>34</td>\n",
       "      <td>61</td>\n",
       "      <td>2793</td>\n",
       "      <td>166</td>\n",
       "      <td>6900</td>\n",
       "      <td>4200</td>\n",
       "      <td>617</td>\n",
       "      <td>781</td>\n",
       "      <td>67</td>\n",
       "      <td>75</td>\n",
       "      <td>14.4</td>\n",
       "      <td>20</td>\n",
       "      <td>8323</td>\n",
       "      <td>49</td>\n",
       "    </tr>\n",
       "    <tr>\n",
       "      <th>Yale University</th>\n",
       "      <td>10705</td>\n",
       "      <td>2453</td>\n",
       "      <td>1317</td>\n",
       "      <td>95</td>\n",
       "      <td>99</td>\n",
       "      <td>5217</td>\n",
       "      <td>83</td>\n",
       "      <td>19840</td>\n",
       "      <td>6510</td>\n",
       "      <td>630</td>\n",
       "      <td>2115</td>\n",
       "      <td>96</td>\n",
       "      <td>96</td>\n",
       "      <td>5.8</td>\n",
       "      <td>49</td>\n",
       "      <td>40386</td>\n",
       "      <td>99</td>\n",
       "    </tr>\n",
       "    <tr>\n",
       "      <th>York College of Pennsylvania</th>\n",
       "      <td>2989</td>\n",
       "      <td>1855</td>\n",
       "      <td>691</td>\n",
       "      <td>28</td>\n",
       "      <td>63</td>\n",
       "      <td>2988</td>\n",
       "      <td>1726</td>\n",
       "      <td>4990</td>\n",
       "      <td>3560</td>\n",
       "      <td>500</td>\n",
       "      <td>1250</td>\n",
       "      <td>75</td>\n",
       "      <td>75</td>\n",
       "      <td>18.1</td>\n",
       "      <td>28</td>\n",
       "      <td>4509</td>\n",
       "      <td>99</td>\n",
       "    </tr>\n",
       "  </tbody>\n",
       "</table>\n",
       "<p>777 rows × 17 columns</p>\n",
       "</div>"
      ],
      "text/plain": [
       "                                 Apps  Accept  Enroll  Top10perc  Top25perc  \\\n",
       "Abilene Christian University     1660    1232     721         23         52   \n",
       "Adelphi University               2186    1924     512         16         29   \n",
       "Adrian College                   1428    1097     336         22         50   \n",
       "Agnes Scott College               417     349     137         60         89   \n",
       "Alaska Pacific University         193     146      55         16         44   \n",
       "...                               ...     ...     ...        ...        ...   \n",
       "Worcester State College          2197    1515     543          4         26   \n",
       "Xavier University                1959    1805     695         24         47   \n",
       "Xavier University of Louisiana   2097    1915     695         34         61   \n",
       "Yale University                 10705    2453    1317         95         99   \n",
       "York College of Pennsylvania     2989    1855     691         28         63   \n",
       "\n",
       "                                F.Undergrad  P.Undergrad  Outstate  \\\n",
       "Abilene Christian University           2885          537      7440   \n",
       "Adelphi University                     2683         1227     12280   \n",
       "Adrian College                         1036           99     11250   \n",
       "Agnes Scott College                     510           63     12960   \n",
       "Alaska Pacific University               249          869      7560   \n",
       "...                                     ...          ...       ...   \n",
       "Worcester State College                3089         2029      6797   \n",
       "Xavier University                      2849         1107     11520   \n",
       "Xavier University of Louisiana         2793          166      6900   \n",
       "Yale University                        5217           83     19840   \n",
       "York College of Pennsylvania           2988         1726      4990   \n",
       "\n",
       "                                Room.Board  Books  Personal  PhD  Terminal  \\\n",
       "Abilene Christian University          3300    450      2200   70        78   \n",
       "Adelphi University                    6450    750      1500   29        30   \n",
       "Adrian College                        3750    400      1165   53        66   \n",
       "Agnes Scott College                   5450    450       875   92        97   \n",
       "Alaska Pacific University             4120    800      1500   76        72   \n",
       "...                                    ...    ...       ...  ...       ...   \n",
       "Worcester State College               3900    500      1200   60        60   \n",
       "Xavier University                     4960    600      1250   73        75   \n",
       "Xavier University of Louisiana        4200    617       781   67        75   \n",
       "Yale University                       6510    630      2115   96        96   \n",
       "York College of Pennsylvania          3560    500      1250   75        75   \n",
       "\n",
       "                                S.F.Ratio  perc.alumni  Expend  Grad.Rate  \n",
       "Abilene Christian University         18.1           12    7041         60  \n",
       "Adelphi University                   12.2           16   10527         56  \n",
       "Adrian College                       12.9           30    8735         54  \n",
       "Agnes Scott College                   7.7           37   19016         59  \n",
       "Alaska Pacific University            11.9            2   10922         15  \n",
       "...                                   ...          ...     ...        ...  \n",
       "Worcester State College              21.0           14    4469         40  \n",
       "Xavier University                    13.3           31    9189         83  \n",
       "Xavier University of Louisiana       14.4           20    8323         49  \n",
       "Yale University                       5.8           49   40386         99  \n",
       "York College of Pennsylvania         18.1           28    4509         99  \n",
       "\n",
       "[777 rows x 17 columns]"
      ]
     },
     "execution_count": 3,
     "metadata": {},
     "output_type": "execute_result"
    }
   ],
   "source": [
    "df"
   ]
  },
  {
   "cell_type": "code",
   "execution_count": 4,
   "metadata": {},
   "outputs": [
    {
     "name": "stdout",
     "output_type": "stream",
     "text": [
      "<class 'pandas.core.frame.DataFrame'>\n",
      "Index: 777 entries, Abilene Christian University to York College of Pennsylvania\n",
      "Data columns (total 17 columns):\n",
      " #   Column       Non-Null Count  Dtype  \n",
      "---  ------       --------------  -----  \n",
      " 0   Apps         777 non-null    int64  \n",
      " 1   Accept       777 non-null    int64  \n",
      " 2   Enroll       777 non-null    int64  \n",
      " 3   Top10perc    777 non-null    int64  \n",
      " 4   Top25perc    777 non-null    int64  \n",
      " 5   F.Undergrad  777 non-null    int64  \n",
      " 6   P.Undergrad  777 non-null    int64  \n",
      " 7   Outstate     777 non-null    int64  \n",
      " 8   Room.Board   777 non-null    int64  \n",
      " 9   Books        777 non-null    int64  \n",
      " 10  Personal     777 non-null    int64  \n",
      " 11  PhD          777 non-null    int64  \n",
      " 12  Terminal     777 non-null    int64  \n",
      " 13  S.F.Ratio    777 non-null    float64\n",
      " 14  perc.alumni  777 non-null    int64  \n",
      " 15  Expend       777 non-null    int64  \n",
      " 16  Grad.Rate    777 non-null    int64  \n",
      "dtypes: float64(1), int64(16)\n",
      "memory usage: 109.3+ KB\n"
     ]
    }
   ],
   "source": [
    "df.info()"
   ]
  },
  {
   "cell_type": "code",
   "execution_count": 5,
   "metadata": {},
   "outputs": [
    {
     "data": {
      "text/plain": [
       "Apps           0\n",
       "Accept         0\n",
       "Enroll         0\n",
       "Top10perc      0\n",
       "Top25perc      0\n",
       "F.Undergrad    0\n",
       "P.Undergrad    0\n",
       "Outstate       0\n",
       "Room.Board     0\n",
       "Books          0\n",
       "Personal       0\n",
       "PhD            0\n",
       "Terminal       0\n",
       "S.F.Ratio      0\n",
       "perc.alumni    0\n",
       "Expend         0\n",
       "Grad.Rate      0\n",
       "dtype: int64"
      ]
     },
     "execution_count": 5,
     "metadata": {},
     "output_type": "execute_result"
    }
   ],
   "source": [
    "df.isnull().sum()"
   ]
  },
  {
   "cell_type": "code",
   "execution_count": 6,
   "metadata": {},
   "outputs": [
    {
     "data": {
      "text/html": [
       "<div>\n",
       "<style scoped>\n",
       "    .dataframe tbody tr th:only-of-type {\n",
       "        vertical-align: middle;\n",
       "    }\n",
       "\n",
       "    .dataframe tbody tr th {\n",
       "        vertical-align: top;\n",
       "    }\n",
       "\n",
       "    .dataframe thead th {\n",
       "        text-align: right;\n",
       "    }\n",
       "</style>\n",
       "<table border=\"1\" class=\"dataframe\">\n",
       "  <thead>\n",
       "    <tr style=\"text-align: right;\">\n",
       "      <th></th>\n",
       "      <th>Apps</th>\n",
       "      <th>Accept</th>\n",
       "      <th>Enroll</th>\n",
       "      <th>Top10perc</th>\n",
       "      <th>Top25perc</th>\n",
       "      <th>F.Undergrad</th>\n",
       "      <th>P.Undergrad</th>\n",
       "      <th>Outstate</th>\n",
       "      <th>Room.Board</th>\n",
       "      <th>Books</th>\n",
       "      <th>Personal</th>\n",
       "      <th>PhD</th>\n",
       "      <th>Terminal</th>\n",
       "      <th>S.F.Ratio</th>\n",
       "      <th>perc.alumni</th>\n",
       "      <th>Expend</th>\n",
       "      <th>Grad.Rate</th>\n",
       "    </tr>\n",
       "  </thead>\n",
       "  <tbody>\n",
       "    <tr>\n",
       "      <th>count</th>\n",
       "      <td>777.000000</td>\n",
       "      <td>777.000000</td>\n",
       "      <td>777.000000</td>\n",
       "      <td>777.000000</td>\n",
       "      <td>777.000000</td>\n",
       "      <td>777.000000</td>\n",
       "      <td>777.000000</td>\n",
       "      <td>777.000000</td>\n",
       "      <td>777.000000</td>\n",
       "      <td>777.000000</td>\n",
       "      <td>777.000000</td>\n",
       "      <td>777.000000</td>\n",
       "      <td>777.000000</td>\n",
       "      <td>777.000000</td>\n",
       "      <td>777.000000</td>\n",
       "      <td>777.000000</td>\n",
       "      <td>777.00000</td>\n",
       "    </tr>\n",
       "    <tr>\n",
       "      <th>mean</th>\n",
       "      <td>3001.638353</td>\n",
       "      <td>2018.804376</td>\n",
       "      <td>779.972973</td>\n",
       "      <td>27.558559</td>\n",
       "      <td>55.796654</td>\n",
       "      <td>3699.907336</td>\n",
       "      <td>855.298584</td>\n",
       "      <td>10440.669241</td>\n",
       "      <td>4357.526384</td>\n",
       "      <td>549.380952</td>\n",
       "      <td>1340.642214</td>\n",
       "      <td>72.660232</td>\n",
       "      <td>79.702703</td>\n",
       "      <td>14.089704</td>\n",
       "      <td>22.743887</td>\n",
       "      <td>9660.171171</td>\n",
       "      <td>65.46332</td>\n",
       "    </tr>\n",
       "    <tr>\n",
       "      <th>std</th>\n",
       "      <td>3870.201484</td>\n",
       "      <td>2451.113971</td>\n",
       "      <td>929.176190</td>\n",
       "      <td>17.640364</td>\n",
       "      <td>19.804778</td>\n",
       "      <td>4850.420531</td>\n",
       "      <td>1522.431887</td>\n",
       "      <td>4023.016484</td>\n",
       "      <td>1096.696416</td>\n",
       "      <td>165.105360</td>\n",
       "      <td>677.071454</td>\n",
       "      <td>16.328155</td>\n",
       "      <td>14.722359</td>\n",
       "      <td>3.958349</td>\n",
       "      <td>12.391801</td>\n",
       "      <td>5221.768440</td>\n",
       "      <td>17.17771</td>\n",
       "    </tr>\n",
       "    <tr>\n",
       "      <th>min</th>\n",
       "      <td>81.000000</td>\n",
       "      <td>72.000000</td>\n",
       "      <td>35.000000</td>\n",
       "      <td>1.000000</td>\n",
       "      <td>9.000000</td>\n",
       "      <td>139.000000</td>\n",
       "      <td>1.000000</td>\n",
       "      <td>2340.000000</td>\n",
       "      <td>1780.000000</td>\n",
       "      <td>96.000000</td>\n",
       "      <td>250.000000</td>\n",
       "      <td>8.000000</td>\n",
       "      <td>24.000000</td>\n",
       "      <td>2.500000</td>\n",
       "      <td>0.000000</td>\n",
       "      <td>3186.000000</td>\n",
       "      <td>10.00000</td>\n",
       "    </tr>\n",
       "    <tr>\n",
       "      <th>25%</th>\n",
       "      <td>776.000000</td>\n",
       "      <td>604.000000</td>\n",
       "      <td>242.000000</td>\n",
       "      <td>15.000000</td>\n",
       "      <td>41.000000</td>\n",
       "      <td>992.000000</td>\n",
       "      <td>95.000000</td>\n",
       "      <td>7320.000000</td>\n",
       "      <td>3597.000000</td>\n",
       "      <td>470.000000</td>\n",
       "      <td>850.000000</td>\n",
       "      <td>62.000000</td>\n",
       "      <td>71.000000</td>\n",
       "      <td>11.500000</td>\n",
       "      <td>13.000000</td>\n",
       "      <td>6751.000000</td>\n",
       "      <td>53.00000</td>\n",
       "    </tr>\n",
       "    <tr>\n",
       "      <th>50%</th>\n",
       "      <td>1558.000000</td>\n",
       "      <td>1110.000000</td>\n",
       "      <td>434.000000</td>\n",
       "      <td>23.000000</td>\n",
       "      <td>54.000000</td>\n",
       "      <td>1707.000000</td>\n",
       "      <td>353.000000</td>\n",
       "      <td>9990.000000</td>\n",
       "      <td>4200.000000</td>\n",
       "      <td>500.000000</td>\n",
       "      <td>1200.000000</td>\n",
       "      <td>75.000000</td>\n",
       "      <td>82.000000</td>\n",
       "      <td>13.600000</td>\n",
       "      <td>21.000000</td>\n",
       "      <td>8377.000000</td>\n",
       "      <td>65.00000</td>\n",
       "    </tr>\n",
       "    <tr>\n",
       "      <th>75%</th>\n",
       "      <td>3624.000000</td>\n",
       "      <td>2424.000000</td>\n",
       "      <td>902.000000</td>\n",
       "      <td>35.000000</td>\n",
       "      <td>69.000000</td>\n",
       "      <td>4005.000000</td>\n",
       "      <td>967.000000</td>\n",
       "      <td>12925.000000</td>\n",
       "      <td>5050.000000</td>\n",
       "      <td>600.000000</td>\n",
       "      <td>1700.000000</td>\n",
       "      <td>85.000000</td>\n",
       "      <td>92.000000</td>\n",
       "      <td>16.500000</td>\n",
       "      <td>31.000000</td>\n",
       "      <td>10830.000000</td>\n",
       "      <td>78.00000</td>\n",
       "    </tr>\n",
       "    <tr>\n",
       "      <th>max</th>\n",
       "      <td>48094.000000</td>\n",
       "      <td>26330.000000</td>\n",
       "      <td>6392.000000</td>\n",
       "      <td>96.000000</td>\n",
       "      <td>100.000000</td>\n",
       "      <td>31643.000000</td>\n",
       "      <td>21836.000000</td>\n",
       "      <td>21700.000000</td>\n",
       "      <td>8124.000000</td>\n",
       "      <td>2340.000000</td>\n",
       "      <td>6800.000000</td>\n",
       "      <td>103.000000</td>\n",
       "      <td>100.000000</td>\n",
       "      <td>39.800000</td>\n",
       "      <td>64.000000</td>\n",
       "      <td>56233.000000</td>\n",
       "      <td>118.00000</td>\n",
       "    </tr>\n",
       "  </tbody>\n",
       "</table>\n",
       "</div>"
      ],
      "text/plain": [
       "               Apps        Accept       Enroll   Top10perc   Top25perc  \\\n",
       "count    777.000000    777.000000   777.000000  777.000000  777.000000   \n",
       "mean    3001.638353   2018.804376   779.972973   27.558559   55.796654   \n",
       "std     3870.201484   2451.113971   929.176190   17.640364   19.804778   \n",
       "min       81.000000     72.000000    35.000000    1.000000    9.000000   \n",
       "25%      776.000000    604.000000   242.000000   15.000000   41.000000   \n",
       "50%     1558.000000   1110.000000   434.000000   23.000000   54.000000   \n",
       "75%     3624.000000   2424.000000   902.000000   35.000000   69.000000   \n",
       "max    48094.000000  26330.000000  6392.000000   96.000000  100.000000   \n",
       "\n",
       "        F.Undergrad   P.Undergrad      Outstate   Room.Board        Books  \\\n",
       "count    777.000000    777.000000    777.000000   777.000000   777.000000   \n",
       "mean    3699.907336    855.298584  10440.669241  4357.526384   549.380952   \n",
       "std     4850.420531   1522.431887   4023.016484  1096.696416   165.105360   \n",
       "min      139.000000      1.000000   2340.000000  1780.000000    96.000000   \n",
       "25%      992.000000     95.000000   7320.000000  3597.000000   470.000000   \n",
       "50%     1707.000000    353.000000   9990.000000  4200.000000   500.000000   \n",
       "75%     4005.000000    967.000000  12925.000000  5050.000000   600.000000   \n",
       "max    31643.000000  21836.000000  21700.000000  8124.000000  2340.000000   \n",
       "\n",
       "          Personal         PhD    Terminal   S.F.Ratio  perc.alumni  \\\n",
       "count   777.000000  777.000000  777.000000  777.000000   777.000000   \n",
       "mean   1340.642214   72.660232   79.702703   14.089704    22.743887   \n",
       "std     677.071454   16.328155   14.722359    3.958349    12.391801   \n",
       "min     250.000000    8.000000   24.000000    2.500000     0.000000   \n",
       "25%     850.000000   62.000000   71.000000   11.500000    13.000000   \n",
       "50%    1200.000000   75.000000   82.000000   13.600000    21.000000   \n",
       "75%    1700.000000   85.000000   92.000000   16.500000    31.000000   \n",
       "max    6800.000000  103.000000  100.000000   39.800000    64.000000   \n",
       "\n",
       "             Expend  Grad.Rate  \n",
       "count    777.000000  777.00000  \n",
       "mean    9660.171171   65.46332  \n",
       "std     5221.768440   17.17771  \n",
       "min     3186.000000   10.00000  \n",
       "25%     6751.000000   53.00000  \n",
       "50%     8377.000000   65.00000  \n",
       "75%    10830.000000   78.00000  \n",
       "max    56233.000000  118.00000  "
      ]
     },
     "execution_count": 6,
     "metadata": {},
     "output_type": "execute_result"
    }
   ],
   "source": [
    "df.describe()"
   ]
  },
  {
   "cell_type": "code",
   "execution_count": 7,
   "metadata": {},
   "outputs": [
    {
     "data": {
      "text/plain": [
       "<AxesSubplot:>"
      ]
     },
     "execution_count": 7,
     "metadata": {},
     "output_type": "execute_result"
    },
    {
     "data": {
      "image/png": "[encoded data removed]",
      "text/plain": [
       "<Figure size 720x720 with 2 Axes>"
      ]
     },
     "metadata": {
      "needs_background": "light"
     },
     "output_type": "display_data"
    }
   ],
   "source": [
    "plt.figure(figsize=(10,10))\n",
    "sns.heatmap(df.corr(),annot=True)"
   ]
  },
  {
   "cell_type": "code",
   "execution_count": 8,
   "metadata": {},
   "outputs": [
    {
     "name": "stderr",
     "output_type": "stream",
     "text": [
      "C:\\Users\\Ashwin\\anaconda3\\lib\\site-packages\\seaborn\\distributions.py:2551: FutureWarning: `distplot` is a deprecated function and will be removed in a future version. Please adapt your code to use either `displot` (a figure-level function with similar flexibility) or `histplot` (an axes-level function for histograms).\n",
      "  warnings.warn(msg, FutureWarning)\n"
     ]
    },
    {
     "data": {
      "text/plain": [
       "<AxesSubplot:xlabel='Grad.Rate', ylabel='Density'>"
      ]
     },
     "execution_count": 8,
     "metadata": {},
     "output_type": "execute_result"
    },
    {
     "data": {
      "image/png": "[encoded data removed]",
      "text/plain": [
       "<Figure size 432x288 with 1 Axes>"
      ]
     },
     "metadata": {
      "needs_background": "light"
     },
     "output_type": "display_data"
    }
   ],
   "source": [
    "sns.distplot(df['Grad.Rate'])"
   ]
  },
  {
   "cell_type": "code",
   "execution_count": 9,
   "metadata": {},
   "outputs": [
    {
     "name": "stderr",
     "output_type": "stream",
     "text": [
      "C:\\Users\\Ashwin\\anaconda3\\lib\\site-packages\\seaborn\\distributions.py:2551: FutureWarning: `distplot` is a deprecated function and will be removed in a future version. Please adapt your code to use either `displot` (a figure-level function with similar flexibility) or `histplot` (an axes-level function for histograms).\n",
      "  warnings.warn(msg, FutureWarning)\n"
     ]
    },
    {
     "data": {
      "text/plain": [
       "<AxesSubplot:xlabel='Grad.Rate', ylabel='Density'>"
      ]
     },
     "execution_count": 9,
     "metadata": {},
     "output_type": "execute_result"
    },
    {
     "data": {
      "image/png": "[encoded data removed]",
      "text/plain": [
       "<Figure size 432x288 with 1 Axes>"
      ]
     },
     "metadata": {
      "needs_background": "light"
     },
     "output_type": "display_data"
    }
   ],
   "source": [
    "sns.distplot(df['Grad.Rate'])"
   ]
  },
  {
   "cell_type": "code",
   "execution_count": 10,
   "metadata": {},
   "outputs": [
    {
     "name": "stderr",
     "output_type": "stream",
     "text": [
      "<ipython-input-10-8549f310e26f>:1: SettingWithCopyWarning: \n",
      "A value is trying to be set on a copy of a slice from a DataFrame.\n",
      "Try using .loc[row_indexer,col_indexer] = value instead\n",
      "\n",
      "See the caveats in the documentation: https://pandas.pydata.org/pandas-docs/stable/user_guide/indexing.html#returning-a-view-versus-a-copy\n",
      "  df[df['Grad.Rate']>100]['Grad.Rate']=100\n"
     ]
    }
   ],
   "source": [
    "df[df['Grad.Rate']>100]['Grad.Rate']=100"
   ]
  },
  {
   "cell_type": "code",
   "execution_count": 11,
   "metadata": {},
   "outputs": [
    {
     "name": "stderr",
     "output_type": "stream",
     "text": [
      "C:\\Users\\Ashwin\\anaconda3\\lib\\site-packages\\seaborn\\_decorators.py:36: FutureWarning: Pass the following variables as keyword args: x, y. From version 0.12, the only valid positional argument will be `data`, and passing other arguments without an explicit keyword will result in an error or misinterpretation.\n",
      "  warnings.warn(\n"
     ]
    },
    {
     "data": {
      "text/plain": [
       "<AxesSubplot:xlabel='Grad.Rate', ylabel='Room.Board'>"
      ]
     },
     "execution_count": 11,
     "metadata": {},
     "output_type": "execute_result"
    },
    {
     "data": {
      "image/png": "[encoded data removed]",
      "text/plain": [
       "<Figure size 432x288 with 1 Axes>"
      ]
     },
     "metadata": {
      "needs_background": "light"
     },
     "output_type": "display_data"
    }
   ],
   "source": [
    "sns.scatterplot(df['Grad.Rate'],df['Room.Board'])"
   ]
  },
  {
   "cell_type": "code",
   "execution_count": 12,
   "metadata": {},
   "outputs": [
    {
     "name": "stderr",
     "output_type": "stream",
     "text": [
      "C:\\Users\\Ashwin\\anaconda3\\lib\\site-packages\\seaborn\\_decorators.py:36: FutureWarning: Pass the following variables as keyword args: x, y. From version 0.12, the only valid positional argument will be `data`, and passing other arguments without an explicit keyword will result in an error or misinterpretation.\n",
      "  warnings.warn(\n"
     ]
    },
    {
     "data": {
      "text/plain": [
       "<AxesSubplot:xlabel='Grad.Rate', ylabel='Expend'>"
      ]
     },
     "execution_count": 12,
     "metadata": {},
     "output_type": "execute_result"
    },
    {
     "data": {
      "image/png": "[encoded data removed]",
      "text/plain": [
       "<Figure size 432x288 with 1 Axes>"
      ]
     },
     "metadata": {
      "needs_background": "light"
     },
     "output_type": "display_data"
    }
   ],
   "source": [
    "sns.scatterplot(df['Grad.Rate'],df['Expend'])"
   ]
  },
  {
   "cell_type": "code",
   "execution_count": 13,
   "metadata": {},
   "outputs": [
    {
     "data": {
      "text/html": [
       "<div>\n",
       "<style scoped>\n",
       "    .dataframe tbody tr th:only-of-type {\n",
       "        vertical-align: middle;\n",
       "    }\n",
       "\n",
       "    .dataframe tbody tr th {\n",
       "        vertical-align: top;\n",
       "    }\n",
       "\n",
       "    .dataframe thead th {\n",
       "        text-align: right;\n",
       "    }\n",
       "</style>\n",
       "<table border=\"1\" class=\"dataframe\">\n",
       "  <thead>\n",
       "    <tr style=\"text-align: right;\">\n",
       "      <th></th>\n",
       "      <th>Apps</th>\n",
       "      <th>Accept</th>\n",
       "      <th>Enroll</th>\n",
       "      <th>Top10perc</th>\n",
       "      <th>Top25perc</th>\n",
       "      <th>F.Undergrad</th>\n",
       "      <th>P.Undergrad</th>\n",
       "      <th>Outstate</th>\n",
       "      <th>Room.Board</th>\n",
       "      <th>Books</th>\n",
       "      <th>Personal</th>\n",
       "      <th>PhD</th>\n",
       "      <th>Terminal</th>\n",
       "      <th>S.F.Ratio</th>\n",
       "      <th>perc.alumni</th>\n",
       "      <th>Expend</th>\n",
       "      <th>Grad.Rate</th>\n",
       "    </tr>\n",
       "  </thead>\n",
       "  <tbody>\n",
       "    <tr>\n",
       "      <th>Abilene Christian University</th>\n",
       "      <td>1660</td>\n",
       "      <td>1232</td>\n",
       "      <td>721</td>\n",
       "      <td>23</td>\n",
       "      <td>52</td>\n",
       "      <td>2885</td>\n",
       "      <td>537</td>\n",
       "      <td>7440</td>\n",
       "      <td>3300</td>\n",
       "      <td>450</td>\n",
       "      <td>2200</td>\n",
       "      <td>70</td>\n",
       "      <td>78</td>\n",
       "      <td>18.1</td>\n",
       "      <td>12</td>\n",
       "      <td>7041</td>\n",
       "      <td>60</td>\n",
       "    </tr>\n",
       "    <tr>\n",
       "      <th>Adelphi University</th>\n",
       "      <td>2186</td>\n",
       "      <td>1924</td>\n",
       "      <td>512</td>\n",
       "      <td>16</td>\n",
       "      <td>29</td>\n",
       "      <td>2683</td>\n",
       "      <td>1227</td>\n",
       "      <td>12280</td>\n",
       "      <td>6450</td>\n",
       "      <td>750</td>\n",
       "      <td>1500</td>\n",
       "      <td>29</td>\n",
       "      <td>30</td>\n",
       "      <td>12.2</td>\n",
       "      <td>16</td>\n",
       "      <td>10527</td>\n",
       "      <td>56</td>\n",
       "    </tr>\n",
       "    <tr>\n",
       "      <th>Adrian College</th>\n",
       "      <td>1428</td>\n",
       "      <td>1097</td>\n",
       "      <td>336</td>\n",
       "      <td>22</td>\n",
       "      <td>50</td>\n",
       "      <td>1036</td>\n",
       "      <td>99</td>\n",
       "      <td>11250</td>\n",
       "      <td>3750</td>\n",
       "      <td>400</td>\n",
       "      <td>1165</td>\n",
       "      <td>53</td>\n",
       "      <td>66</td>\n",
       "      <td>12.9</td>\n",
       "      <td>30</td>\n",
       "      <td>8735</td>\n",
       "      <td>54</td>\n",
       "    </tr>\n",
       "    <tr>\n",
       "      <th>Agnes Scott College</th>\n",
       "      <td>417</td>\n",
       "      <td>349</td>\n",
       "      <td>137</td>\n",
       "      <td>60</td>\n",
       "      <td>89</td>\n",
       "      <td>510</td>\n",
       "      <td>63</td>\n",
       "      <td>12960</td>\n",
       "      <td>5450</td>\n",
       "      <td>450</td>\n",
       "      <td>875</td>\n",
       "      <td>92</td>\n",
       "      <td>97</td>\n",
       "      <td>7.7</td>\n",
       "      <td>37</td>\n",
       "      <td>19016</td>\n",
       "      <td>59</td>\n",
       "    </tr>\n",
       "    <tr>\n",
       "      <th>Alaska Pacific University</th>\n",
       "      <td>193</td>\n",
       "      <td>146</td>\n",
       "      <td>55</td>\n",
       "      <td>16</td>\n",
       "      <td>44</td>\n",
       "      <td>249</td>\n",
       "      <td>869</td>\n",
       "      <td>7560</td>\n",
       "      <td>4120</td>\n",
       "      <td>800</td>\n",
       "      <td>1500</td>\n",
       "      <td>76</td>\n",
       "      <td>72</td>\n",
       "      <td>11.9</td>\n",
       "      <td>2</td>\n",
       "      <td>10922</td>\n",
       "      <td>15</td>\n",
       "    </tr>\n",
       "    <tr>\n",
       "      <th>...</th>\n",
       "      <td>...</td>\n",
       "      <td>...</td>\n",
       "      <td>...</td>\n",
       "      <td>...</td>\n",
       "      <td>...</td>\n",
       "      <td>...</td>\n",
       "      <td>...</td>\n",
       "      <td>...</td>\n",
       "      <td>...</td>\n",
       "      <td>...</td>\n",
       "      <td>...</td>\n",
       "      <td>...</td>\n",
       "      <td>...</td>\n",
       "      <td>...</td>\n",
       "      <td>...</td>\n",
       "      <td>...</td>\n",
       "      <td>...</td>\n",
       "    </tr>\n",
       "    <tr>\n",
       "      <th>Worcester State College</th>\n",
       "      <td>2197</td>\n",
       "      <td>1515</td>\n",
       "      <td>543</td>\n",
       "      <td>4</td>\n",
       "      <td>26</td>\n",
       "      <td>3089</td>\n",
       "      <td>2029</td>\n",
       "      <td>6797</td>\n",
       "      <td>3900</td>\n",
       "      <td>500</td>\n",
       "      <td>1200</td>\n",
       "      <td>60</td>\n",
       "      <td>60</td>\n",
       "      <td>21.0</td>\n",
       "      <td>14</td>\n",
       "      <td>4469</td>\n",
       "      <td>40</td>\n",
       "    </tr>\n",
       "    <tr>\n",
       "      <th>Xavier University</th>\n",
       "      <td>1959</td>\n",
       "      <td>1805</td>\n",
       "      <td>695</td>\n",
       "      <td>24</td>\n",
       "      <td>47</td>\n",
       "      <td>2849</td>\n",
       "      <td>1107</td>\n",
       "      <td>11520</td>\n",
       "      <td>4960</td>\n",
       "      <td>600</td>\n",
       "      <td>1250</td>\n",
       "      <td>73</td>\n",
       "      <td>75</td>\n",
       "      <td>13.3</td>\n",
       "      <td>31</td>\n",
       "      <td>9189</td>\n",
       "      <td>83</td>\n",
       "    </tr>\n",
       "    <tr>\n",
       "      <th>Xavier University of Louisiana</th>\n",
       "      <td>2097</td>\n",
       "      <td>1915</td>\n",
       "      <td>695</td>\n",
       "      <td>34</td>\n",
       "      <td>61</td>\n",
       "      <td>2793</td>\n",
       "      <td>166</td>\n",
       "      <td>6900</td>\n",
       "      <td>4200</td>\n",
       "      <td>617</td>\n",
       "      <td>781</td>\n",
       "      <td>67</td>\n",
       "      <td>75</td>\n",
       "      <td>14.4</td>\n",
       "      <td>20</td>\n",
       "      <td>8323</td>\n",
       "      <td>49</td>\n",
       "    </tr>\n",
       "    <tr>\n",
       "      <th>Yale University</th>\n",
       "      <td>10705</td>\n",
       "      <td>2453</td>\n",
       "      <td>1317</td>\n",
       "      <td>95</td>\n",
       "      <td>99</td>\n",
       "      <td>5217</td>\n",
       "      <td>83</td>\n",
       "      <td>19840</td>\n",
       "      <td>6510</td>\n",
       "      <td>630</td>\n",
       "      <td>2115</td>\n",
       "      <td>96</td>\n",
       "      <td>96</td>\n",
       "      <td>5.8</td>\n",
       "      <td>49</td>\n",
       "      <td>40386</td>\n",
       "      <td>99</td>\n",
       "    </tr>\n",
       "    <tr>\n",
       "      <th>York College of Pennsylvania</th>\n",
       "      <td>2989</td>\n",
       "      <td>1855</td>\n",
       "      <td>691</td>\n",
       "      <td>28</td>\n",
       "      <td>63</td>\n",
       "      <td>2988</td>\n",
       "      <td>1726</td>\n",
       "      <td>4990</td>\n",
       "      <td>3560</td>\n",
       "      <td>500</td>\n",
       "      <td>1250</td>\n",
       "      <td>75</td>\n",
       "      <td>75</td>\n",
       "      <td>18.1</td>\n",
       "      <td>28</td>\n",
       "      <td>4509</td>\n",
       "      <td>99</td>\n",
       "    </tr>\n",
       "  </tbody>\n",
       "</table>\n",
       "<p>777 rows × 17 columns</p>\n",
       "</div>"
      ],
      "text/plain": [
       "                                 Apps  Accept  Enroll  Top10perc  Top25perc  \\\n",
       "Abilene Christian University     1660    1232     721         23         52   \n",
       "Adelphi University               2186    1924     512         16         29   \n",
       "Adrian College                   1428    1097     336         22         50   \n",
       "Agnes Scott College               417     349     137         60         89   \n",
       "Alaska Pacific University         193     146      55         16         44   \n",
       "...                               ...     ...     ...        ...        ...   \n",
       "Worcester State College          2197    1515     543          4         26   \n",
       "Xavier University                1959    1805     695         24         47   \n",
       "Xavier University of Louisiana   2097    1915     695         34         61   \n",
       "Yale University                 10705    2453    1317         95         99   \n",
       "York College of Pennsylvania     2989    1855     691         28         63   \n",
       "\n",
       "                                F.Undergrad  P.Undergrad  Outstate  \\\n",
       "Abilene Christian University           2885          537      7440   \n",
       "Adelphi University                     2683         1227     12280   \n",
       "Adrian College                         1036           99     11250   \n",
       "Agnes Scott College                     510           63     12960   \n",
       "Alaska Pacific University               249          869      7560   \n",
       "...                                     ...          ...       ...   \n",
       "Worcester State College                3089         2029      6797   \n",
       "Xavier University                      2849         1107     11520   \n",
       "Xavier University of Louisiana         2793          166      6900   \n",
       "Yale University                        5217           83     19840   \n",
       "York College of Pennsylvania           2988         1726      4990   \n",
       "\n",
       "                                Room.Board  Books  Personal  PhD  Terminal  \\\n",
       "Abilene Christian University          3300    450      2200   70        78   \n",
       "Adelphi University                    6450    750      1500   29        30   \n",
       "Adrian College                        3750    400      1165   53        66   \n",
       "Agnes Scott College                   5450    450       875   92        97   \n",
       "Alaska Pacific University             4120    800      1500   76        72   \n",
       "...                                    ...    ...       ...  ...       ...   \n",
       "Worcester State College               3900    500      1200   60        60   \n",
       "Xavier University                     4960    600      1250   73        75   \n",
       "Xavier University of Louisiana        4200    617       781   67        75   \n",
       "Yale University                       6510    630      2115   96        96   \n",
       "York College of Pennsylvania          3560    500      1250   75        75   \n",
       "\n",
       "                                S.F.Ratio  perc.alumni  Expend  Grad.Rate  \n",
       "Abilene Christian University         18.1           12    7041         60  \n",
       "Adelphi University                   12.2           16   10527         56  \n",
       "Adrian College                       12.9           30    8735         54  \n",
       "Agnes Scott College                   7.7           37   19016         59  \n",
       "Alaska Pacific University            11.9            2   10922         15  \n",
       "...                                   ...          ...     ...        ...  \n",
       "Worcester State College              21.0           14    4469         40  \n",
       "Xavier University                    13.3           31    9189         83  \n",
       "Xavier University of Louisiana       14.4           20    8323         49  \n",
       "Yale University                       5.8           49   40386         99  \n",
       "York College of Pennsylvania         18.1           28    4509         99  \n",
       "\n",
       "[777 rows x 17 columns]"
      ]
     },
     "execution_count": 13,
     "metadata": {},
     "output_type": "execute_result"
    }
   ],
   "source": [
    "df"
   ]
  },
  {
   "cell_type": "code",
   "execution_count": 14,
   "metadata": {},
   "outputs": [],
   "source": [
    "from sklearn.preprocessing import StandardScaler"
   ]
  },
  {
   "cell_type": "code",
   "execution_count": 15,
   "metadata": {},
   "outputs": [
    {
     "data": {
      "text/plain": [
       "Index(['Abilene Christian University', 'Adelphi University', 'Adrian College',\n",
       "       'Agnes Scott College', 'Alaska Pacific University', 'Albertson College',\n",
       "       'Albertus Magnus College', 'Albion College', 'Albright College',\n",
       "       'Alderson-Broaddus College',\n",
       "       ...\n",
       "       'Winthrop University', 'Wisconsin Lutheran College',\n",
       "       'Wittenberg University', 'Wofford College',\n",
       "       'Worcester Polytechnic Institute', 'Worcester State College',\n",
       "       'Xavier University', 'Xavier University of Louisiana',\n",
       "       'Yale University', 'York College of Pennsylvania'],\n",
       "      dtype='object', length=777)"
      ]
     },
     "execution_count": 15,
     "metadata": {},
     "output_type": "execute_result"
    }
   ],
   "source": [
    "df.index"
   ]
  },
  {
   "cell_type": "code",
   "execution_count": 16,
   "metadata": {},
   "outputs": [],
   "source": [
    "scaler=StandardScaler()\n",
    "scaled_df=scaler.fit_transform(df)\n",
    "df=pd.DataFrame(scaled_df,index=df.index,columns=df.columns)"
   ]
  },
  {
   "cell_type": "code",
   "execution_count": 17,
   "metadata": {},
   "outputs": [
    {
     "data": {
      "text/plain": [
       "array([[-3.46881819e-01, -3.21205453e-01, -6.35089011e-02, ...,\n",
       "        -8.67574189e-01, -5.01910084e-01, -3.18251941e-01],\n",
       "       [-2.10884040e-01, -3.87029908e-02, -2.88584214e-01, ...,\n",
       "        -5.44572203e-01,  1.66109850e-01, -5.51261842e-01],\n",
       "       [-4.06865631e-01, -3.76317928e-01, -4.78121319e-01, ...,\n",
       "         5.85934748e-01, -1.77289956e-01, -6.67766793e-01],\n",
       "       ...,\n",
       "       [-2.33895071e-01, -4.23771558e-02, -9.15087008e-02, ...,\n",
       "        -2.21570217e-01, -2.56241250e-01, -9.59029170e-01],\n",
       "       [ 1.99171118e+00,  1.77256262e-01,  5.78332661e-01, ...,\n",
       "         2.12019418e+00,  5.88797079e+00,  1.95359460e+00],\n",
       "       [-3.26765760e-03, -6.68715889e-02, -9.58163623e-02, ...,\n",
       "         4.24433755e-01, -9.87115613e-01,  1.95359460e+00]])"
      ]
     },
     "execution_count": 17,
     "metadata": {},
     "output_type": "execute_result"
    }
   ],
   "source": [
    "scaled_df"
   ]
  },
  {
   "cell_type": "code",
   "execution_count": 18,
   "metadata": {},
   "outputs": [],
   "source": [
    "from sklearn.cluster import KMeans"
   ]
  },
  {
   "cell_type": "code",
   "execution_count": 19,
   "metadata": {},
   "outputs": [],
   "source": [
    "kmeans=KMeans(n_clusters=4)"
   ]
  },
  {
   "cell_type": "code",
   "execution_count": 20,
   "metadata": {},
   "outputs": [
    {
     "data": {
      "text/plain": [
       "array([2, 2, 2, 0, 2, 1, 1, 1, 1, 2, 1, 1, 1, 1, 2, 2, 0, 2, 2, 2, 0, 3,\n",
       "       2, 3, 1, 2, 1, 3, 2, 1, 1, 1, 2, 2, 1, 1, 0, 0, 1, 3, 1, 1, 2, 2,\n",
       "       1, 2, 2, 1, 1, 1, 2, 2, 2, 2, 1, 2, 2, 2, 2, 3, 0, 3, 1, 1, 0, 2,\n",
       "       2, 2, 1, 3, 0, 0, 0, 1, 1, 1, 1, 1, 3, 3, 1, 2, 2, 1, 1, 2, 0, 0,\n",
       "       1, 2, 1, 0, 2, 2, 1, 2, 1, 2, 2, 1, 2, 1, 2, 2, 2, 2, 0, 1, 1, 1,\n",
       "       1, 2, 2, 2, 0, 1, 2, 1, 3, 2, 1, 1, 0, 0, 1, 2, 2, 1, 2, 1, 1, 1,\n",
       "       1, 1, 2, 2, 1, 0, 0, 1, 0, 3, 2, 1, 0, 2, 2, 2, 2, 0, 1, 1, 1, 2,\n",
       "       2, 2, 2, 2, 0, 0, 2, 2, 1, 1, 1, 2, 2, 2, 2, 2, 2, 1, 0, 1, 0, 1,\n",
       "       3, 2, 2, 2, 2, 2, 2, 2, 1, 1, 1, 1, 2, 2, 1, 0, 2, 1, 1, 2, 1, 2,\n",
       "       2, 2, 1, 3, 2, 3, 2, 1, 2, 2, 2, 1, 2, 2, 2, 1, 2, 2, 2, 2, 3, 0,\n",
       "       1, 0, 3, 3, 2, 0, 2, 1, 1, 2, 1, 2, 2, 2, 2, 2, 2, 0, 1, 1, 1, 1,\n",
       "       0, 1, 1, 2, 1, 2, 1, 1, 0, 0, 2, 1, 1, 1, 1, 3, 1, 1, 1, 1, 2, 2,\n",
       "       2, 2, 1, 2, 1, 3, 1, 2, 2, 3, 3, 2, 1, 3, 1, 3, 2, 2, 2, 1, 0, 2,\n",
       "       2, 1, 3, 2, 2, 2, 0, 1, 1, 2, 1, 2, 1, 0, 2, 1, 2, 2, 2, 2, 0, 1,\n",
       "       1, 0, 1, 2, 2, 1, 2, 2, 2, 2, 1, 2, 2, 2, 2, 2, 3, 2, 1, 1, 1, 1,\n",
       "       1, 1, 2, 2, 0, 2, 2, 2, 1, 1, 2, 2, 1, 1, 1, 3, 1, 1, 1, 1, 1, 1,\n",
       "       2, 1, 0, 2, 2, 2, 2, 1, 2, 1, 1, 2, 1, 3, 3, 1, 2, 2, 2, 1, 1, 2,\n",
       "       2, 2, 2, 2, 2, 1, 2, 1, 2, 2, 2, 2, 1, 1, 2, 2, 0, 2, 2, 2, 2, 1,\n",
       "       1, 1, 1, 2, 1, 2, 1, 2, 1, 1, 1, 0, 2, 1, 2, 2, 3, 2, 1, 2, 1, 2,\n",
       "       3, 3, 3, 2, 2, 2, 0, 1, 2, 2, 0, 0, 1, 1, 3, 1, 2, 2, 3, 1, 2, 2,\n",
       "       3, 1, 2, 1, 2, 3, 0, 2, 2, 2, 2, 2, 2, 1, 2, 2, 1, 2, 1, 0, 1, 3,\n",
       "       1, 1, 1, 2, 2, 1, 1, 0, 1, 0, 0, 1, 1, 2, 1, 1, 2, 2, 1, 1, 2, 3,\n",
       "       1, 1, 1, 2, 1, 2, 2, 2, 1, 2, 2, 1, 1, 1, 1, 2, 2, 1, 1, 1, 1, 1,\n",
       "       2, 1, 2, 1, 3, 1, 0, 2, 2, 0, 1, 1, 1, 1, 2, 2, 1, 2, 1, 1, 2, 1,\n",
       "       0, 2, 2, 2, 2, 2, 1, 2, 3, 2, 2, 2, 1, 2, 1, 2, 1, 1, 1, 1, 2, 1,\n",
       "       1, 1, 1, 2, 2, 2, 1, 1, 2, 1, 3, 3, 3, 3, 2, 3, 2, 2, 2, 1, 2, 2,\n",
       "       2, 2, 1, 0, 3, 2, 2, 1, 2, 3, 2, 1, 2, 3, 2, 2, 2, 2, 1, 1, 2, 0,\n",
       "       1, 1, 0, 0, 2, 2, 2, 0, 2, 1, 3, 3, 3, 3, 2, 0, 3, 3, 1, 1, 3, 1,\n",
       "       2, 2, 1, 3, 3, 2, 3, 3, 3, 2, 3, 2, 3, 2, 2, 2, 2, 3, 3, 2, 0, 3,\n",
       "       2, 1, 3, 2, 3, 1, 2, 2, 2, 3, 1, 3, 2, 3, 3, 2, 2, 2, 2, 3, 2, 3,\n",
       "       0, 3, 3, 0, 3, 1, 1, 3, 1, 0, 1, 1, 2, 1, 2, 3, 3, 3, 2, 2, 2, 1,\n",
       "       1, 3, 3, 3, 3, 2, 1, 0, 1, 3, 1, 0, 3, 2, 2, 2, 2, 2, 3, 3, 2, 2,\n",
       "       1, 2, 2, 1, 0, 0, 1, 3, 2, 3, 2, 1, 2, 2, 1, 1, 0, 2, 2, 1, 1, 0,\n",
       "       1, 3, 0, 2, 2, 2, 2, 0, 0, 2, 2, 0, 2, 2, 1, 2, 1, 3, 2, 2, 3, 2,\n",
       "       2, 1, 1, 1, 1, 0, 1, 1, 1, 1, 1, 1, 1, 2, 2, 0, 1, 2, 2, 2, 2, 1,\n",
       "       1, 1, 2, 1, 2, 0, 1])"
      ]
     },
     "execution_count": 20,
     "metadata": {},
     "output_type": "execute_result"
    }
   ],
   "source": [
    "kmeans.fit_predict(df)"
   ]
  },
  {
   "cell_type": "code",
   "execution_count": 21,
   "metadata": {},
   "outputs": [
    {
     "data": {
      "text/plain": [
       "array([[ 0.54016607,  0.14501056,  0.02579116,  1.94999651,  1.57852977,\n",
       "        -0.11105628, -0.41699737,  1.79044913,  1.2041349 ,  0.27215159,\n",
       "        -0.48040303,  1.15257452,  1.10768901, -1.22525039,  1.32737112,\n",
       "         2.10616047,  1.16226876],\n",
       "       [-0.31339807, -0.28160315, -0.35762428,  0.17933177,  0.27612956,\n",
       "        -0.38213116, -0.2793172 ,  0.46692822,  0.39689212, -0.06212182,\n",
       "        -0.2839966 ,  0.32233626,  0.35436029, -0.27767606,  0.43001288,\n",
       "         0.06664934,  0.47228711],\n",
       "       [-0.36782055, -0.35730769, -0.32106359, -0.64660015, -0.69769006,\n",
       "        -0.28885625, -0.11323824, -0.63862966, -0.55139034, -0.10575956,\n",
       "         0.11078815, -0.72214626, -0.73583115,  0.33435589, -0.49957569,\n",
       "        -0.51388981, -0.55424465],\n",
       "       [ 1.79256025,  1.98818502,  2.18229968,  0.16349766,  0.36721158,\n",
       "         2.25309329,  1.57544218, -0.58327739, -0.20217343,  0.33591399,\n",
       "         0.84202615,  0.67055751,  0.66187969,  0.64192516, -0.58711816,\n",
       "        -0.10636031, -0.38026264]])"
      ]
     },
     "execution_count": 21,
     "metadata": {},
     "output_type": "execute_result"
    }
   ],
   "source": [
    "kmeans.cluster_centers_"
   ]
  },
  {
   "cell_type": "code",
   "execution_count": 22,
   "metadata": {},
   "outputs": [
    {
     "data": {
      "text/plain": [
       "7443.450966903961"
      ]
     },
     "execution_count": 22,
     "metadata": {},
     "output_type": "execute_result"
    }
   ],
   "source": [
    "#SSE\n",
    "kmeans.inertia_"
   ]
  },
  {
   "cell_type": "code",
   "execution_count": 23,
   "metadata": {},
   "outputs": [],
   "source": [
    "sse=[]\n",
    "for i in range(2,10):\n",
    "    kmeans=KMeans(n_clusters=i)\n",
    "    kmeans.fit(df)\n",
    "    sse.append(kmeans.inertia_)"
   ]
  },
  {
   "cell_type": "code",
   "execution_count": 24,
   "metadata": {},
   "outputs": [
    {
     "data": {
      "text/plain": [
       "[10469.534683524138,\n",
       " 8254.103725902729,\n",
       " 7443.334592026693,\n",
       " 6847.811600184917,\n",
       " 6508.696440730118,\n",
       " 6237.577220677742,\n",
       " 5988.865459129511,\n",
       " 5797.718883418693]"
      ]
     },
     "execution_count": 24,
     "metadata": {},
     "output_type": "execute_result"
    }
   ],
   "source": [
    "sse"
   ]
  },
  {
   "cell_type": "code",
   "execution_count": 25,
   "metadata": {},
   "outputs": [],
   "source": [
    "def plotElbowGraph(sseValues):\n",
    "    plt.figure(figsize=(10,8))\n",
    "    plt.plot(range(2,len(sseValues)+2),sseValues)\n",
    "    plt.xticks(range(2,len(sseValues)+2))\n",
    "    plt.title(\"Elbow Method\")\n",
    "    plt.xlabel(\"No of Clusters\")\n",
    "    plt.ylabel('SSE Values')\n",
    "    "
   ]
  },
  {
   "cell_type": "code",
   "execution_count": 26,
   "metadata": {},
   "outputs": [
    {
     "data": {
      "image/png": "[encoded data removed]",
      "text/plain": [
       "<Figure size 720x576 with 1 Axes>"
      ]
     },
     "metadata": {
      "needs_background": "light"
     },
     "output_type": "display_data"
    }
   ],
   "source": [
    "plotElbowGraph(sse)"
   ]
  },
  {
   "cell_type": "markdown",
   "metadata": {},
   "source": [
    "Here, 4 clusters seems to be the Elbow Point"
   ]
  },
  {
   "cell_type": "code",
   "execution_count": 27,
   "metadata": {},
   "outputs": [],
   "source": [
    "kmc=KMeans(n_clusters=4)"
   ]
  },
  {
   "cell_type": "code",
   "execution_count": 28,
   "metadata": {},
   "outputs": [
    {
     "data": {
      "text/plain": [
       "KMeans(n_clusters=4)"
      ]
     },
     "execution_count": 28,
     "metadata": {},
     "output_type": "execute_result"
    }
   ],
   "source": [
    "kmc.fit(df)"
   ]
  },
  {
   "cell_type": "code",
   "execution_count": 29,
   "metadata": {},
   "outputs": [
    {
     "data": {
      "text/plain": [
       "array([[-0.36782055, -0.35730769, -0.32106359, -0.64660015, -0.69769006,\n",
       "        -0.28885625, -0.11323824, -0.63862966, -0.55139034, -0.10575956,\n",
       "         0.11078815, -0.72214626, -0.73583115,  0.33435589, -0.49957569,\n",
       "        -0.51388981, -0.55424465],\n",
       "       [-0.31339807, -0.28160315, -0.35762428,  0.17933177,  0.27612956,\n",
       "        -0.38213116, -0.2793172 ,  0.46692822,  0.39689212, -0.06212182,\n",
       "        -0.2839966 ,  0.32233626,  0.35436029, -0.27767606,  0.43001288,\n",
       "         0.06664934,  0.47228711],\n",
       "       [ 0.54016607,  0.14501056,  0.02579116,  1.94999651,  1.57852977,\n",
       "        -0.11105628, -0.41699737,  1.79044913,  1.2041349 ,  0.27215159,\n",
       "        -0.48040303,  1.15257452,  1.10768901, -1.22525039,  1.32737112,\n",
       "         2.10616047,  1.16226876],\n",
       "       [ 1.79256025,  1.98818502,  2.18229968,  0.16349766,  0.36721158,\n",
       "         2.25309329,  1.57544218, -0.58327739, -0.20217343,  0.33591399,\n",
       "         0.84202615,  0.67055751,  0.66187969,  0.64192516, -0.58711816,\n",
       "        -0.10636031, -0.38026264]])"
      ]
     },
     "execution_count": 29,
     "metadata": {},
     "output_type": "execute_result"
    }
   ],
   "source": [
    "kmc.cluster_centers_"
   ]
  },
  {
   "cell_type": "code",
   "execution_count": 30,
   "metadata": {},
   "outputs": [
    {
     "name": "stdout",
     "output_type": "stream",
     "text": [
      "Requirement already satisfied: kmodes in c:\\users\\ashwin\\anaconda3\\lib\\site-packages (0.11.0)\n",
      "Requirement already satisfied: scikit-learn>=0.22.0 in c:\\users\\ashwin\\anaconda3\\lib\\site-packages (from kmodes) (0.23.2)\n",
      "Requirement already satisfied: numpy>=1.10.4 in c:\\users\\ashwin\\anaconda3\\lib\\site-packages (from kmodes) (1.19.2)\n",
      "Requirement already satisfied: joblib>=0.11 in c:\\users\\ashwin\\anaconda3\\lib\\site-packages (from kmodes) (0.17.0)\n",
      "Requirement already satisfied: scipy>=0.13.3 in c:\\users\\ashwin\\anaconda3\\lib\\site-packages (from kmodes) (1.5.2)\n",
      "Requirement already satisfied: threadpoolctl>=2.0.0 in c:\\users\\ashwin\\anaconda3\\lib\\site-packages (from scikit-learn>=0.22.0->kmodes) (2.1.0)\n"
     ]
    }
   ],
   "source": [
    "!pip install kmodes"
   ]
  },
  {
   "cell_type": "code",
   "execution_count": 31,
   "metadata": {},
   "outputs": [],
   "source": [
    "from kmodes.kmodes import KModes"
   ]
  },
  {
   "cell_type": "code",
   "execution_count": 32,
   "metadata": {},
   "outputs": [],
   "source": [
    "KModeClusters=KModes(n_clusters=2)"
   ]
  },
  {
   "cell_type": "code",
   "execution_count": 33,
   "metadata": {},
   "outputs": [
    {
     "data": {
      "text/plain": [
       "array([0, 1, 0, 0, 1, 0, 1, 0, 0, 1, 0, 0, 0, 0, 1, 0, 0, 0, 1, 0, 0, 0,\n",
       "       0, 1, 0, 0, 1, 0, 0, 0, 0, 0, 0, 0, 0, 0, 0, 1, 1, 0, 0, 0, 1, 0,\n",
       "       1, 0, 0, 0, 0, 0, 0, 0, 0, 0, 0, 0, 0, 1, 0, 0, 0, 0, 0, 0, 0, 0,\n",
       "       0, 1, 0, 0, 0, 0, 0, 0, 0, 0, 0, 0, 0, 1, 0, 0, 0, 1, 0, 0, 1, 1,\n",
       "       0, 0, 0, 0, 0, 0, 1, 0, 0, 0, 0, 0, 0, 0, 0, 0, 0, 0, 0, 0, 0, 0,\n",
       "       0, 1, 0, 0, 0, 0, 1, 0, 0, 0, 0, 0, 0, 0, 0, 0, 0, 0, 0, 1, 1, 0,\n",
       "       0, 1, 0, 0, 0, 0, 0, 0, 0, 0, 0, 1, 0, 0, 0, 0, 0, 0, 0, 0, 0, 0,\n",
       "       1, 0, 0, 0, 0, 0, 0, 0, 0, 0, 0, 0, 0, 0, 0, 0, 0, 1, 0, 0, 0, 1,\n",
       "       0, 0, 1, 0, 0, 0, 0, 0, 0, 0, 0, 0, 1, 0, 0, 0, 0, 0, 0, 0, 0, 0,\n",
       "       0, 0, 1, 0, 0, 0, 0, 0, 0, 0, 0, 0, 0, 0, 0, 0, 0, 0, 1, 0, 1, 1,\n",
       "       0, 0, 0, 0, 0, 0, 0, 0, 0, 0, 0, 0, 0, 0, 0, 0, 0, 0, 0, 0, 0, 0,\n",
       "       0, 1, 0, 0, 1, 0, 0, 0, 0, 0, 0, 1, 0, 0, 0, 0, 0, 0, 0, 0, 0, 0,\n",
       "       0, 1, 1, 0, 1, 0, 0, 0, 0, 0, 0, 0, 0, 0, 0, 0, 0, 1, 0, 0, 0, 0,\n",
       "       0, 0, 0, 0, 0, 0, 0, 0, 0, 0, 0, 0, 0, 0, 1, 0, 0, 0, 0, 0, 0, 0,\n",
       "       0, 0, 0, 0, 0, 0, 0, 0, 0, 0, 0, 1, 1, 0, 0, 0, 0, 1, 0, 0, 0, 0,\n",
       "       0, 0, 0, 0, 0, 1, 0, 0, 0, 0, 0, 0, 0, 0, 0, 0, 0, 0, 1, 0, 0, 0,\n",
       "       0, 0, 0, 0, 0, 0, 0, 1, 0, 0, 0, 0, 0, 0, 0, 0, 0, 0, 0, 0, 0, 0,\n",
       "       0, 0, 1, 0, 0, 0, 0, 0, 0, 0, 0, 0, 0, 0, 0, 0, 0, 1, 1, 0, 0, 0,\n",
       "       0, 0, 0, 0, 0, 0, 0, 0, 1, 0, 0, 0, 1, 0, 0, 0, 0, 0, 0, 0, 0, 0,\n",
       "       0, 0, 0, 0, 0, 0, 0, 1, 1, 0, 0, 1, 0, 0, 0, 1, 0, 0, 0, 0, 1, 0,\n",
       "       1, 0, 0, 0, 0, 1, 0, 0, 0, 0, 0, 0, 0, 0, 0, 0, 1, 1, 0, 0, 0, 0,\n",
       "       0, 0, 1, 0, 0, 0, 0, 1, 0, 0, 1, 0, 0, 0, 1, 0, 0, 0, 0, 0, 0, 1,\n",
       "       1, 1, 0, 1, 0, 0, 0, 1, 1, 0, 0, 0, 0, 0, 0, 0, 0, 0, 0, 0, 0, 0,\n",
       "       0, 0, 0, 0, 0, 0, 1, 0, 0, 0, 0, 1, 0, 0, 0, 0, 0, 0, 0, 0, 0, 0,\n",
       "       0, 0, 0, 0, 1, 0, 0, 0, 0, 0, 0, 1, 0, 1, 0, 0, 1, 1, 0, 1, 0, 0,\n",
       "       1, 0, 0, 0, 0, 0, 0, 0, 0, 0, 0, 0, 1, 0, 0, 1, 0, 0, 0, 0, 1, 0,\n",
       "       0, 0, 0, 0, 0, 1, 0, 0, 0, 0, 0, 1, 0, 0, 0, 0, 0, 0, 0, 0, 0, 0,\n",
       "       1, 1, 0, 0, 0, 0, 1, 1, 0, 0, 0, 0, 0, 0, 0, 0, 0, 0, 1, 0, 0, 0,\n",
       "       0, 1, 1, 0, 1, 0, 0, 0, 0, 0, 0, 0, 0, 0, 1, 0, 0, 0, 0, 0, 0, 1,\n",
       "       1, 1, 0, 0, 0, 0, 0, 1, 0, 0, 0, 0, 0, 1, 0, 0, 1, 0, 0, 0, 0, 1,\n",
       "       0, 1, 0, 0, 1, 0, 0, 1, 0, 0, 0, 0, 0, 0, 1, 1, 0, 1, 0, 0, 0, 0,\n",
       "       0, 0, 0, 0, 1, 0, 0, 1, 1, 1, 0, 0, 0, 0, 0, 0, 0, 1, 1, 0, 1, 0,\n",
       "       0, 0, 0, 0, 1, 1, 0, 1, 0, 0, 0, 0, 1, 0, 0, 0, 0, 0, 0, 0, 0, 0,\n",
       "       0, 0, 0, 0, 1, 0, 1, 0, 1, 0, 0, 1, 0, 0, 0, 0, 0, 0, 0, 0, 0, 0,\n",
       "       0, 0, 0, 0, 0, 0, 0, 0, 0, 0, 1, 0, 0, 0, 1, 0, 0, 0, 0, 1, 1, 0,\n",
       "       0, 0, 0, 0, 0, 0, 0], dtype=uint16)"
      ]
     },
     "execution_count": 33,
     "metadata": {},
     "output_type": "execute_result"
    }
   ],
   "source": [
    "KModeClusters.fit_predict(df)"
   ]
  },
  {
   "cell_type": "code",
   "execution_count": 34,
   "metadata": {},
   "outputs": [
    {
     "data": {
      "text/plain": [
       "array([[-0.66231393, -0.63963308, -0.52227485, -0.42875686, -0.04025124,\n",
       "        -0.56545052, -0.54244146, -0.96772542, -0.23497137, -0.29928017,\n",
       "        -0.50343524,  0.02082214,  0.83581841, -0.70521846, -0.46382171,\n",
       "        -0.91218854,  0.08951539],\n",
       "       [-0.67808554, -0.68535603, -0.64935086, -0.59893091, -0.54550515,\n",
       "        -0.67747169, -0.52206619, -0.96772542, -1.42111308, -0.29928017,\n",
       "         0.23551492,  1.0626392 ,  0.90378606, -0.65465981,  0.26293276,\n",
       "        -0.15582747, -0.14349451]])"
      ]
     },
     "execution_count": 34,
     "metadata": {},
     "output_type": "execute_result"
    }
   ],
   "source": [
    "KModeClusters.cluster_centroids_"
   ]
  },
  {
   "cell_type": "code",
   "execution_count": 35,
   "metadata": {},
   "outputs": [],
   "source": [
    "sseKModes=[]\n",
    "for i in range(2,10):\n",
    "    KMC=KModes(n_clusters=i)\n",
    "    KMC.fit_predict(df)\n",
    "    sseKModes.append(KMC.cost_)"
   ]
  },
  {
   "cell_type": "code",
   "execution_count": 36,
   "metadata": {},
   "outputs": [
    {
     "data": {
      "text/plain": [
       "[12598.0, 12488.0, 12309.0, 12228.0, 12150.0, 12095.0, 12015.0, 11955.0]"
      ]
     },
     "execution_count": 36,
     "metadata": {},
     "output_type": "execute_result"
    }
   ],
   "source": [
    "sseKModes"
   ]
  },
  {
   "cell_type": "code",
   "execution_count": 37,
   "metadata": {},
   "outputs": [
    {
     "data": {
      "image/png": "[encoded data removed]",
      "text/plain": [
       "<Figure size 720x576 with 1 Axes>"
      ]
     },
     "metadata": {
      "needs_background": "light"
     },
     "output_type": "display_data"
    }
   ],
   "source": [
    "plotElbowGraph(sseKModes)"
   ]
  },
  {
   "cell_type": "markdown",
   "metadata": {},
   "source": [
    "The same result as in the previous case, although the plot is more steep, the only visible change is at K=4"
   ]
  },
  {
   "cell_type": "code",
   "execution_count": 38,
   "metadata": {},
   "outputs": [
    {
     "name": "stdout",
     "output_type": "stream",
     "text": [
      "Requirement already satisfied: scikit-learn-extra in c:\\users\\ashwin\\anaconda3\\lib\\site-packages (0.2.0)\n",
      "Requirement already satisfied: scipy>=0.19.1 in c:\\users\\ashwin\\anaconda3\\lib\\site-packages (from scikit-learn-extra) (1.5.2)\n",
      "Requirement already satisfied: scikit-learn>=0.23.0 in c:\\users\\ashwin\\anaconda3\\lib\\site-packages (from scikit-learn-extra) (0.23.2)\n",
      "Requirement already satisfied: numpy>=1.13.3 in c:\\users\\ashwin\\anaconda3\\lib\\site-packages (from scikit-learn-extra) (1.19.2)\n",
      "Requirement already satisfied: joblib>=0.11 in c:\\users\\ashwin\\anaconda3\\lib\\site-packages (from scikit-learn>=0.23.0->scikit-learn-extra) (0.17.0)\n",
      "Requirement already satisfied: threadpoolctl>=2.0.0 in c:\\users\\ashwin\\anaconda3\\lib\\site-packages (from scikit-learn>=0.23.0->scikit-learn-extra) (2.1.0)\n"
     ]
    }
   ],
   "source": [
    "!pip install scikit-learn-extra"
   ]
  },
  {
   "cell_type": "code",
   "execution_count": 39,
   "metadata": {},
   "outputs": [],
   "source": [
    "from sklearn_extra.cluster import KMedoids"
   ]
  },
  {
   "cell_type": "code",
   "execution_count": 40,
   "metadata": {},
   "outputs": [],
   "source": [
    "KMed=KMedoids(n_clusters=4)"
   ]
  },
  {
   "cell_type": "code",
   "execution_count": 41,
   "metadata": {},
   "outputs": [
    {
     "data": {
      "text/plain": [
       "array([1, 0, 0, 2, 0, 0, 1, 2, 1, 0, 2, 2, 1, 1, 0, 1, 2, 0, 0, 3, 1, 3,\n",
       "       1, 3, 1, 0, 2, 3, 0, 1, 1, 2, 0, 0, 0, 1, 2, 2, 1, 3, 1, 1, 1, 0,\n",
       "       1, 0, 1, 0, 2, 1, 0, 1, 0, 0, 2, 1, 3, 0, 1, 3, 2, 3, 1, 3, 2, 1,\n",
       "       0, 0, 1, 3, 2, 2, 2, 0, 2, 1, 1, 1, 3, 3, 1, 1, 0, 1, 1, 0, 2, 2,\n",
       "       1, 0, 1, 2, 1, 1, 2, 0, 1, 0, 0, 1, 0, 1, 3, 3, 3, 0, 2, 1, 1, 1,\n",
       "       1, 1, 3, 0, 2, 2, 1, 2, 3, 0, 1, 1, 2, 2, 1, 3, 0, 1, 0, 1, 1, 1,\n",
       "       1, 1, 0, 0, 1, 2, 2, 2, 2, 3, 3, 1, 2, 0, 0, 0, 0, 2, 1, 1, 2, 0,\n",
       "       0, 1, 0, 0, 2, 2, 0, 0, 2, 2, 2, 0, 0, 1, 0, 0, 0, 2, 2, 1, 2, 2,\n",
       "       3, 3, 0, 0, 3, 3, 0, 0, 1, 1, 1, 1, 1, 0, 1, 2, 3, 1, 1, 1, 2, 0,\n",
       "       0, 0, 2, 3, 0, 3, 0, 2, 3, 3, 0, 1, 0, 0, 0, 2, 0, 0, 1, 0, 3, 2,\n",
       "       1, 2, 2, 3, 0, 2, 0, 1, 1, 0, 2, 0, 0, 3, 1, 0, 0, 2, 2, 1, 1, 0,\n",
       "       2, 1, 1, 3, 1, 0, 1, 1, 2, 2, 0, 2, 1, 2, 2, 3, 1, 2, 1, 1, 0, 1,\n",
       "       0, 0, 1, 1, 2, 3, 2, 1, 0, 3, 3, 0, 3, 3, 2, 3, 0, 0, 1, 2, 2, 1,\n",
       "       0, 2, 3, 0, 3, 0, 2, 1, 1, 1, 2, 0, 1, 2, 0, 2, 0, 3, 0, 0, 2, 2,\n",
       "       1, 2, 1, 1, 1, 2, 0, 1, 0, 3, 2, 0, 0, 1, 0, 0, 3, 3, 2, 2, 2, 3,\n",
       "       2, 1, 0, 0, 2, 0, 0, 1, 2, 2, 3, 0, 2, 1, 2, 3, 2, 1, 1, 1, 1, 1,\n",
       "       0, 1, 2, 0, 1, 0, 0, 2, 0, 1, 1, 0, 1, 3, 3, 3, 0, 3, 0, 1, 1, 0,\n",
       "       1, 3, 0, 0, 0, 1, 1, 1, 3, 3, 0, 3, 1, 1, 0, 0, 2, 0, 0, 0, 0, 1,\n",
       "       1, 2, 1, 0, 2, 3, 1, 0, 1, 2, 3, 2, 0, 2, 0, 3, 3, 0, 1, 3, 1, 3,\n",
       "       3, 3, 3, 3, 0, 1, 2, 1, 0, 3, 2, 2, 2, 2, 3, 2, 0, 0, 3, 1, 0, 0,\n",
       "       3, 2, 0, 1, 0, 3, 2, 3, 0, 0, 0, 1, 0, 2, 0, 0, 2, 3, 1, 2, 1, 3,\n",
       "       1, 1, 2, 3, 3, 1, 2, 2, 1, 2, 2, 3, 1, 0, 1, 1, 0, 0, 2, 1, 3, 3,\n",
       "       3, 3, 1, 0, 1, 3, 0, 1, 1, 0, 1, 2, 1, 2, 2, 1, 0, 1, 2, 1, 1, 1,\n",
       "       0, 1, 3, 1, 3, 2, 2, 0, 0, 2, 2, 2, 3, 1, 3, 0, 2, 0, 2, 1, 0, 2,\n",
       "       2, 3, 3, 0, 0, 3, 2, 0, 3, 0, 0, 0, 2, 0, 2, 0, 1, 1, 1, 2, 0, 2,\n",
       "       2, 1, 1, 0, 0, 0, 2, 2, 3, 2, 3, 3, 3, 3, 3, 3, 3, 3, 3, 2, 3, 3,\n",
       "       1, 3, 1, 2, 3, 0, 0, 1, 0, 3, 1, 3, 0, 3, 0, 1, 0, 0, 2, 2, 0, 2,\n",
       "       2, 1, 2, 2, 1, 0, 0, 2, 3, 3, 3, 3, 3, 3, 0, 2, 3, 3, 2, 3, 3, 1,\n",
       "       1, 1, 1, 3, 3, 0, 3, 3, 3, 0, 3, 0, 3, 1, 0, 0, 3, 3, 3, 3, 2, 3,\n",
       "       3, 1, 3, 3, 3, 2, 3, 0, 1, 3, 0, 3, 3, 2, 3, 3, 3, 3, 3, 3, 3, 3,\n",
       "       2, 3, 3, 2, 3, 1, 2, 3, 2, 2, 2, 3, 0, 2, 0, 3, 3, 3, 3, 3, 3, 1,\n",
       "       1, 3, 3, 3, 3, 0, 2, 2, 3, 3, 3, 2, 3, 3, 3, 0, 3, 3, 3, 3, 3, 0,\n",
       "       2, 0, 0, 2, 2, 2, 2, 3, 0, 3, 0, 1, 0, 0, 2, 1, 2, 0, 1, 1, 2, 2,\n",
       "       2, 3, 2, 0, 0, 0, 0, 2, 2, 0, 0, 2, 3, 0, 1, 3, 1, 3, 3, 3, 3, 3,\n",
       "       0, 1, 1, 2, 2, 2, 1, 2, 1, 1, 1, 1, 2, 1, 0, 2, 1, 0, 0, 1, 0, 2,\n",
       "       2, 2, 0, 1, 0, 2, 1], dtype=int64)"
      ]
     },
     "execution_count": 41,
     "metadata": {},
     "output_type": "execute_result"
    }
   ],
   "source": [
    "KMed.fit_predict(df)"
   ]
  },
  {
   "cell_type": "code",
   "execution_count": 42,
   "metadata": {},
   "outputs": [],
   "source": [
    "sseKMed=[]\n",
    "for i in range(2,15):\n",
    "    KM=KMedoids(n_clusters=i)\n",
    "    KM.fit_predict(df)\n",
    "    sseKMed.append(KM.inertia_)"
   ]
  },
  {
   "cell_type": "code",
   "execution_count": 43,
   "metadata": {},
   "outputs": [
    {
     "data": {
      "text/plain": [
       "[2709.120871784122,\n",
       " 2658.4449598775,\n",
       " 2396.7623696521387,\n",
       " 2347.543897491668,\n",
       " 2263.163278735459,\n",
       " 2244.9479812493055,\n",
       " 2207.5212560053405,\n",
       " 2223.7754356798323,\n",
       " 2181.4675143622535,\n",
       " 2161.5709176700934,\n",
       " 2138.45580338124,\n",
       " 2149.355298467536,\n",
       " 2105.94542554683]"
      ]
     },
     "execution_count": 43,
     "metadata": {},
     "output_type": "execute_result"
    }
   ],
   "source": [
    "sseKMed"
   ]
  },
  {
   "cell_type": "code",
   "execution_count": 44,
   "metadata": {},
   "outputs": [
    {
     "data": {
      "image/png": "[encoded data removed]",
      "text/plain": [
       "<Figure size 720x576 with 1 Axes>"
      ]
     },
     "metadata": {
      "needs_background": "light"
     },
     "output_type": "display_data"
    }
   ],
   "source": [
    "plotElbowGraph(sseKMed)"
   ]
  },
  {
   "cell_type": "markdown",
   "metadata": {},
   "source": [
    "With KMedoids also the value seems to be 4 for which we get the Elbow point"
   ]
  },
  {
   "cell_type": "code",
   "execution_count": 45,
   "metadata": {},
   "outputs": [],
   "source": [
    "def makePredictionAndAddToDF(model,df,columnName):\n",
    "    model.fit(df)\n",
    "    df[columnName]=model.predict(df)"
   ]
  },
  {
   "cell_type": "code",
   "execution_count": 46,
   "metadata": {},
   "outputs": [],
   "source": [
    "n_clusters=5\n",
    "final_KMeans=KMeans(n_clusters)\n",
    "final_KModes=KModes(n_clusters)\n",
    "final_KMedoids=KMedoids(n_clusters)"
   ]
  },
  {
   "cell_type": "code",
   "execution_count": 47,
   "metadata": {},
   "outputs": [],
   "source": [
    "makePredictionAndAddToDF(final_KMeans,df,\"KMeans_Label\")\n",
    "makePredictionAndAddToDF(final_KModes,df,\"KModes_Label\")\n",
    "makePredictionAndAddToDF(final_KMedoids,df,\"KMedoids_Label\")"
   ]
  },
  {
   "cell_type": "code",
   "execution_count": 48,
   "metadata": {},
   "outputs": [
    {
     "data": {
      "text/html": [
       "<div>\n",
       "<style scoped>\n",
       "    .dataframe tbody tr th:only-of-type {\n",
       "        vertical-align: middle;\n",
       "    }\n",
       "\n",
       "    .dataframe tbody tr th {\n",
       "        vertical-align: top;\n",
       "    }\n",
       "\n",
       "    .dataframe thead th {\n",
       "        text-align: right;\n",
       "    }\n",
       "</style>\n",
       "<table border=\"1\" class=\"dataframe\">\n",
       "  <thead>\n",
       "    <tr style=\"text-align: right;\">\n",
       "      <th></th>\n",
       "      <th>Apps</th>\n",
       "      <th>Accept</th>\n",
       "      <th>Enroll</th>\n",
       "      <th>Top10perc</th>\n",
       "      <th>Top25perc</th>\n",
       "      <th>F.Undergrad</th>\n",
       "      <th>P.Undergrad</th>\n",
       "      <th>Outstate</th>\n",
       "      <th>Room.Board</th>\n",
       "      <th>Books</th>\n",
       "      <th>Personal</th>\n",
       "      <th>PhD</th>\n",
       "      <th>Terminal</th>\n",
       "      <th>S.F.Ratio</th>\n",
       "      <th>perc.alumni</th>\n",
       "      <th>Expend</th>\n",
       "      <th>Grad.Rate</th>\n",
       "      <th>KMeans_Label</th>\n",
       "      <th>KModes_Label</th>\n",
       "      <th>KMedoids_Label</th>\n",
       "    </tr>\n",
       "  </thead>\n",
       "  <tbody>\n",
       "    <tr>\n",
       "      <th>Abilene Christian University</th>\n",
       "      <td>-0.346882</td>\n",
       "      <td>-0.321205</td>\n",
       "      <td>-0.063509</td>\n",
       "      <td>-0.258583</td>\n",
       "      <td>-0.191827</td>\n",
       "      <td>-0.168116</td>\n",
       "      <td>-0.209207</td>\n",
       "      <td>-0.746356</td>\n",
       "      <td>-0.964905</td>\n",
       "      <td>-0.602312</td>\n",
       "      <td>1.270045</td>\n",
       "      <td>-0.163028</td>\n",
       "      <td>-0.115729</td>\n",
       "      <td>1.013776</td>\n",
       "      <td>-0.867574</td>\n",
       "      <td>-0.501910</td>\n",
       "      <td>-0.318252</td>\n",
       "      <td>2</td>\n",
       "      <td>0</td>\n",
       "      <td>4</td>\n",
       "    </tr>\n",
       "    <tr>\n",
       "      <th>Adelphi University</th>\n",
       "      <td>-0.210884</td>\n",
       "      <td>-0.038703</td>\n",
       "      <td>-0.288584</td>\n",
       "      <td>-0.655656</td>\n",
       "      <td>-1.353911</td>\n",
       "      <td>-0.209788</td>\n",
       "      <td>0.244307</td>\n",
       "      <td>0.457496</td>\n",
       "      <td>1.909208</td>\n",
       "      <td>1.215880</td>\n",
       "      <td>0.235515</td>\n",
       "      <td>-2.675646</td>\n",
       "      <td>-3.378176</td>\n",
       "      <td>-0.477704</td>\n",
       "      <td>-0.544572</td>\n",
       "      <td>0.166110</td>\n",
       "      <td>-0.551262</td>\n",
       "      <td>2</td>\n",
       "      <td>0</td>\n",
       "      <td>1</td>\n",
       "    </tr>\n",
       "    <tr>\n",
       "      <th>Adrian College</th>\n",
       "      <td>-0.406866</td>\n",
       "      <td>-0.376318</td>\n",
       "      <td>-0.478121</td>\n",
       "      <td>-0.315307</td>\n",
       "      <td>-0.292878</td>\n",
       "      <td>-0.549565</td>\n",
       "      <td>-0.497090</td>\n",
       "      <td>0.201305</td>\n",
       "      <td>-0.554317</td>\n",
       "      <td>-0.905344</td>\n",
       "      <td>-0.259582</td>\n",
       "      <td>-1.204845</td>\n",
       "      <td>-0.931341</td>\n",
       "      <td>-0.300749</td>\n",
       "      <td>0.585935</td>\n",
       "      <td>-0.177290</td>\n",
       "      <td>-0.667767</td>\n",
       "      <td>2</td>\n",
       "      <td>0</td>\n",
       "      <td>1</td>\n",
       "    </tr>\n",
       "    <tr>\n",
       "      <th>Agnes Scott College</th>\n",
       "      <td>-0.668261</td>\n",
       "      <td>-0.681682</td>\n",
       "      <td>-0.692427</td>\n",
       "      <td>1.840231</td>\n",
       "      <td>1.677612</td>\n",
       "      <td>-0.658079</td>\n",
       "      <td>-0.520752</td>\n",
       "      <td>0.626633</td>\n",
       "      <td>0.996791</td>\n",
       "      <td>-0.602312</td>\n",
       "      <td>-0.688173</td>\n",
       "      <td>1.185206</td>\n",
       "      <td>1.175657</td>\n",
       "      <td>-1.615274</td>\n",
       "      <td>1.151188</td>\n",
       "      <td>1.792851</td>\n",
       "      <td>-0.376504</td>\n",
       "      <td>1</td>\n",
       "      <td>0</td>\n",
       "      <td>0</td>\n",
       "    </tr>\n",
       "    <tr>\n",
       "      <th>Alaska Pacific University</th>\n",
       "      <td>-0.726176</td>\n",
       "      <td>-0.764555</td>\n",
       "      <td>-0.780735</td>\n",
       "      <td>-0.655656</td>\n",
       "      <td>-0.596031</td>\n",
       "      <td>-0.711924</td>\n",
       "      <td>0.009005</td>\n",
       "      <td>-0.716508</td>\n",
       "      <td>-0.216723</td>\n",
       "      <td>1.518912</td>\n",
       "      <td>0.235515</td>\n",
       "      <td>0.204672</td>\n",
       "      <td>-0.523535</td>\n",
       "      <td>-0.553542</td>\n",
       "      <td>-1.675079</td>\n",
       "      <td>0.241803</td>\n",
       "      <td>-2.939613</td>\n",
       "      <td>2</td>\n",
       "      <td>0</td>\n",
       "      <td>4</td>\n",
       "    </tr>\n",
       "    <tr>\n",
       "      <th>...</th>\n",
       "      <td>...</td>\n",
       "      <td>...</td>\n",
       "      <td>...</td>\n",
       "      <td>...</td>\n",
       "      <td>...</td>\n",
       "      <td>...</td>\n",
       "      <td>...</td>\n",
       "      <td>...</td>\n",
       "      <td>...</td>\n",
       "      <td>...</td>\n",
       "      <td>...</td>\n",
       "      <td>...</td>\n",
       "      <td>...</td>\n",
       "      <td>...</td>\n",
       "      <td>...</td>\n",
       "      <td>...</td>\n",
       "      <td>...</td>\n",
       "      <td>...</td>\n",
       "      <td>...</td>\n",
       "      <td>...</td>\n",
       "    </tr>\n",
       "    <tr>\n",
       "      <th>Worcester State College</th>\n",
       "      <td>-0.208040</td>\n",
       "      <td>-0.205673</td>\n",
       "      <td>-0.255200</td>\n",
       "      <td>-1.336352</td>\n",
       "      <td>-1.505488</td>\n",
       "      <td>-0.126030</td>\n",
       "      <td>0.771435</td>\n",
       "      <td>-0.906289</td>\n",
       "      <td>-0.417455</td>\n",
       "      <td>-0.299280</td>\n",
       "      <td>-0.207855</td>\n",
       "      <td>-0.775861</td>\n",
       "      <td>-1.339146</td>\n",
       "      <td>1.746877</td>\n",
       "      <td>-0.706073</td>\n",
       "      <td>-0.994781</td>\n",
       "      <td>-1.483301</td>\n",
       "      <td>2</td>\n",
       "      <td>3</td>\n",
       "      <td>4</td>\n",
       "    </tr>\n",
       "    <tr>\n",
       "      <th>Xavier University</th>\n",
       "      <td>-0.269575</td>\n",
       "      <td>-0.087284</td>\n",
       "      <td>-0.091509</td>\n",
       "      <td>-0.201858</td>\n",
       "      <td>-0.444454</td>\n",
       "      <td>-0.175543</td>\n",
       "      <td>0.165435</td>\n",
       "      <td>0.268462</td>\n",
       "      <td>0.549707</td>\n",
       "      <td>0.306784</td>\n",
       "      <td>-0.133960</td>\n",
       "      <td>0.020822</td>\n",
       "      <td>-0.319632</td>\n",
       "      <td>-0.199632</td>\n",
       "      <td>0.666685</td>\n",
       "      <td>-0.090290</td>\n",
       "      <td>1.021555</td>\n",
       "      <td>0</td>\n",
       "      <td>0</td>\n",
       "      <td>3</td>\n",
       "    </tr>\n",
       "    <tr>\n",
       "      <th>Xavier University of Louisiana</th>\n",
       "      <td>-0.233895</td>\n",
       "      <td>-0.042377</td>\n",
       "      <td>-0.091509</td>\n",
       "      <td>0.365389</td>\n",
       "      <td>0.262901</td>\n",
       "      <td>-0.187095</td>\n",
       "      <td>-0.453053</td>\n",
       "      <td>-0.880670</td>\n",
       "      <td>-0.143730</td>\n",
       "      <td>0.409815</td>\n",
       "      <td>-0.827095</td>\n",
       "      <td>-0.346878</td>\n",
       "      <td>-0.319632</td>\n",
       "      <td>0.078441</td>\n",
       "      <td>-0.221570</td>\n",
       "      <td>-0.256241</td>\n",
       "      <td>-0.959029</td>\n",
       "      <td>2</td>\n",
       "      <td>0</td>\n",
       "      <td>1</td>\n",
       "    </tr>\n",
       "    <tr>\n",
       "      <th>Yale University</th>\n",
       "      <td>1.991711</td>\n",
       "      <td>0.177256</td>\n",
       "      <td>0.578333</td>\n",
       "      <td>3.825595</td>\n",
       "      <td>2.182866</td>\n",
       "      <td>0.312977</td>\n",
       "      <td>-0.507606</td>\n",
       "      <td>2.337894</td>\n",
       "      <td>1.963953</td>\n",
       "      <td>0.488603</td>\n",
       "      <td>1.144424</td>\n",
       "      <td>1.430339</td>\n",
       "      <td>1.107689</td>\n",
       "      <td>-2.095582</td>\n",
       "      <td>2.120194</td>\n",
       "      <td>5.887971</td>\n",
       "      <td>1.953595</td>\n",
       "      <td>1</td>\n",
       "      <td>0</td>\n",
       "      <td>0</td>\n",
       "    </tr>\n",
       "    <tr>\n",
       "      <th>York College of Pennsylvania</th>\n",
       "      <td>-0.003268</td>\n",
       "      <td>-0.066872</td>\n",
       "      <td>-0.095816</td>\n",
       "      <td>0.025041</td>\n",
       "      <td>0.363952</td>\n",
       "      <td>-0.146867</td>\n",
       "      <td>0.572283</td>\n",
       "      <td>-1.355744</td>\n",
       "      <td>-0.727676</td>\n",
       "      <td>-0.299280</td>\n",
       "      <td>-0.133960</td>\n",
       "      <td>0.143389</td>\n",
       "      <td>-0.319632</td>\n",
       "      <td>1.013776</td>\n",
       "      <td>0.424434</td>\n",
       "      <td>-0.987116</td>\n",
       "      <td>1.953595</td>\n",
       "      <td>0</td>\n",
       "      <td>2</td>\n",
       "      <td>3</td>\n",
       "    </tr>\n",
       "  </tbody>\n",
       "</table>\n",
       "<p>777 rows × 20 columns</p>\n",
       "</div>"
      ],
      "text/plain": [
       "                                    Apps    Accept    Enroll  Top10perc  \\\n",
       "Abilene Christian University   -0.346882 -0.321205 -0.063509  -0.258583   \n",
       "Adelphi University             -0.210884 -0.038703 -0.288584  -0.655656   \n",
       "Adrian College                 -0.406866 -0.376318 -0.478121  -0.315307   \n",
       "Agnes Scott College            -0.668261 -0.681682 -0.692427   1.840231   \n",
       "Alaska Pacific University      -0.726176 -0.764555 -0.780735  -0.655656   \n",
       "...                                  ...       ...       ...        ...   \n",
       "Worcester State College        -0.208040 -0.205673 -0.255200  -1.336352   \n",
       "Xavier University              -0.269575 -0.087284 -0.091509  -0.201858   \n",
       "Xavier University of Louisiana -0.233895 -0.042377 -0.091509   0.365389   \n",
       "Yale University                 1.991711  0.177256  0.578333   3.825595   \n",
       "York College of Pennsylvania   -0.003268 -0.066872 -0.095816   0.025041   \n",
       "\n",
       "                                Top25perc  F.Undergrad  P.Undergrad  Outstate  \\\n",
       "Abilene Christian University    -0.191827    -0.168116    -0.209207 -0.746356   \n",
       "Adelphi University              -1.353911    -0.209788     0.244307  0.457496   \n",
       "Adrian College                  -0.292878    -0.549565    -0.497090  0.201305   \n",
       "Agnes Scott College              1.677612    -0.658079    -0.520752  0.626633   \n",
       "Alaska Pacific University       -0.596031    -0.711924     0.009005 -0.716508   \n",
       "...                                   ...          ...          ...       ...   \n",
       "Worcester State College         -1.505488    -0.126030     0.771435 -0.906289   \n",
       "Xavier University               -0.444454    -0.175543     0.165435  0.268462   \n",
       "Xavier University of Louisiana   0.262901    -0.187095    -0.453053 -0.880670   \n",
       "Yale University                  2.182866     0.312977    -0.507606  2.337894   \n",
       "York College of Pennsylvania     0.363952    -0.146867     0.572283 -1.355744   \n",
       "\n",
       "                                Room.Board     Books  Personal       PhD  \\\n",
       "Abilene Christian University     -0.964905 -0.602312  1.270045 -0.163028   \n",
       "Adelphi University                1.909208  1.215880  0.235515 -2.675646   \n",
       "Adrian College                   -0.554317 -0.905344 -0.259582 -1.204845   \n",
       "Agnes Scott College               0.996791 -0.602312 -0.688173  1.185206   \n",
       "Alaska Pacific University        -0.216723  1.518912  0.235515  0.204672   \n",
       "...                                    ...       ...       ...       ...   \n",
       "Worcester State College          -0.417455 -0.299280 -0.207855 -0.775861   \n",
       "Xavier University                 0.549707  0.306784 -0.133960  0.020822   \n",
       "Xavier University of Louisiana   -0.143730  0.409815 -0.827095 -0.346878   \n",
       "Yale University                   1.963953  0.488603  1.144424  1.430339   \n",
       "York College of Pennsylvania     -0.727676 -0.299280 -0.133960  0.143389   \n",
       "\n",
       "                                Terminal  S.F.Ratio  perc.alumni    Expend  \\\n",
       "Abilene Christian University   -0.115729   1.013776    -0.867574 -0.501910   \n",
       "Adelphi University             -3.378176  -0.477704    -0.544572  0.166110   \n",
       "Adrian College                 -0.931341  -0.300749     0.585935 -0.177290   \n",
       "Agnes Scott College             1.175657  -1.615274     1.151188  1.792851   \n",
       "Alaska Pacific University      -0.523535  -0.553542    -1.675079  0.241803   \n",
       "...                                  ...        ...          ...       ...   \n",
       "Worcester State College        -1.339146   1.746877    -0.706073 -0.994781   \n",
       "Xavier University              -0.319632  -0.199632     0.666685 -0.090290   \n",
       "Xavier University of Louisiana -0.319632   0.078441    -0.221570 -0.256241   \n",
       "Yale University                 1.107689  -2.095582     2.120194  5.887971   \n",
       "York College of Pennsylvania   -0.319632   1.013776     0.424434 -0.987116   \n",
       "\n",
       "                                Grad.Rate  KMeans_Label  KModes_Label  \\\n",
       "Abilene Christian University    -0.318252             2             0   \n",
       "Adelphi University              -0.551262             2             0   \n",
       "Adrian College                  -0.667767             2             0   \n",
       "Agnes Scott College             -0.376504             1             0   \n",
       "Alaska Pacific University       -2.939613             2             0   \n",
       "...                                   ...           ...           ...   \n",
       "Worcester State College         -1.483301             2             3   \n",
       "Xavier University                1.021555             0             0   \n",
       "Xavier University of Louisiana  -0.959029             2             0   \n",
       "Yale University                  1.953595             1             0   \n",
       "York College of Pennsylvania     1.953595             0             2   \n",
       "\n",
       "                                KMedoids_Label  \n",
       "Abilene Christian University                 4  \n",
       "Adelphi University                           1  \n",
       "Adrian College                               1  \n",
       "Agnes Scott College                          0  \n",
       "Alaska Pacific University                    4  \n",
       "...                                        ...  \n",
       "Worcester State College                      4  \n",
       "Xavier University                            3  \n",
       "Xavier University of Louisiana               1  \n",
       "Yale University                              0  \n",
       "York College of Pennsylvania                 3  \n",
       "\n",
       "[777 rows x 20 columns]"
      ]
     },
     "execution_count": 48,
     "metadata": {},
     "output_type": "execute_result"
    }
   ],
   "source": [
    "df"
   ]
  },
  {
   "cell_type": "code",
   "execution_count": null,
   "metadata": {},
   "outputs": [],
   "source": []
  }
 ],
 "metadata": {
  "kernelspec": {
   "display_name": "Python 3",
   "language": "python",
   "name": "python3"
  },
  "language_info": {
   "codemirror_mode": {
    "name": "ipython",
    "version": 3
   },
   "file_extension": ".py",
   "mimetype": "text/x-python",
   "name": "python",
   "nbconvert_exporter": "python",
   "pygments_lexer": "ipython3",
   "version": "3.8.5"
  }
 },
 "nbformat": 4,
 "nbformat_minor": 4
}
